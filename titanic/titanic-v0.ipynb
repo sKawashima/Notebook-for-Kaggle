{
 "cells": [
  {
   "cell_type": "markdown",
   "metadata": {
    "_cell_guid": "c9754cc2-6dd2-4079-b14a-b6d29ea66f58",
    "_uuid": "d089e413-0acc-4135-a3a1-f2ce74a45666"
   },
   "source": [
    "参考：https://www.codexa.net/kaggle-titanic-beginner/"
   ]
  },
  {
   "cell_type": "code",
   "execution_count": null,
   "metadata": {
    "_cell_guid": "7dc4749c-3e67-432c-b586-7ae6a9bde029",
    "_uuid": "2effa433-ffb4-4f41-bc90-66df89e814c0"
   },
   "outputs": [],
   "source": [
    "# This Python 3 environment comes with many helpful analytics libraries installed\n",
    "# It is defined by the kaggle/python docker image: https://github.com/kaggle/docker-python\n",
    "# For example, here's several helpful packages to load in \n",
    "\n",
    "import numpy as np # linear algebra\n",
    "import pandas as pd # data processing, CSV file I/O (e.g. pd.read_csv)\n",
    "\n",
    "# Input data files are available in the \"../input/\" directory.\n",
    "# For example, running this (by clicking run or pressing Shift+Enter) will list all files under the input directory\n",
    "\n",
    "import os\n",
    "for dirname, _, filenames in os.walk('/kaggle/input'):\n",
    "    for filename in filenames:\n",
    "        print(os.path.join(dirname, filename))\n",
    "\n",
    "# Any results you write to the current directory are saved as output."
   ]
  },
  {
   "cell_type": "code",
   "execution_count": null,
   "metadata": {
    "_cell_guid": "469e9d3e-c3ee-4e70-a836-fb4aebb4a5b8",
    "_uuid": "42e2ae93-1d78-4ec3-aad2-e181762469a4"
   },
   "outputs": [],
   "source": [
    "print('hello Kaggle')"
   ]
  },
  {
   "cell_type": "code",
   "execution_count": null,
   "metadata": {
    "_cell_guid": "0fc69cb9-ea06-4540-942e-48e263d895a5",
    "_uuid": "73d4e638-194a-4ae1-855d-4ed6c2811694"
   },
   "outputs": [],
   "source": [
    "train = pd.read_csv('/kaggle/input/titanic/train.csv')\n",
    "test  = pd.read_csv('/kaggle/input/titanic/test.csv')"
   ]
  },
  {
   "cell_type": "code",
   "execution_count": null,
   "metadata": {
    "_cell_guid": "60264984-6512-43ad-a416-ddc00e3000d8",
    "_uuid": "86e6a6a0-f52f-4437-8f04-397a6eb1fd9d"
   },
   "outputs": [],
   "source": [
    "train.head()"
   ]
  },
  {
   "cell_type": "code",
   "execution_count": null,
   "metadata": {
    "_cell_guid": "72281e84-345a-4672-8b7d-42ec94939b1b",
    "_uuid": "a327409e-08e0-450a-8664-8913066a8f74"
   },
   "outputs": [],
   "source": [
    "test.head()"
   ]
  },
  {
   "cell_type": "code",
   "execution_count": null,
   "metadata": {
    "_cell_guid": "37e9fa5d-c763-44f5-ae5f-a50e9885b799",
    "_uuid": "c09db046-fd18-4091-8479-11e0e9b21e85"
   },
   "outputs": [],
   "source": [
    "print(train.shape)\n",
    "print(test.shape)"
   ]
  },
  {
   "cell_type": "code",
   "execution_count": null,
   "metadata": {
    "_cell_guid": "a25151f7-24fd-41c4-93bd-236313555138",
    "_uuid": "0c497995-d5cf-40f7-9819-22b9d523d97d"
   },
   "outputs": [],
   "source": [
    "train.describe()"
   ]
  },
  {
   "cell_type": "code",
   "execution_count": null,
   "metadata": {
    "_cell_guid": "24d701c1-24b5-40bd-8e6c-85ffa40822bf",
    "_uuid": "730921ec-6e41-4ec2-94af-f1277b4f143a"
   },
   "outputs": [],
   "source": [
    "test.describe()"
   ]
  },
  {
   "cell_type": "code",
   "execution_count": null,
   "metadata": {
    "_cell_guid": "7ae9a353-d2b3-441f-bbb4-1a0a4e019d92",
    "_uuid": "5fc1343e-c1fc-49f5-a352-ab3333e18b2a"
   },
   "outputs": [],
   "source": [
    "def isNullCheck(df):\n",
    "    null_val = df.isnull().sum()\n",
    "    percent = null_val * 100 / len(df)\n",
    "    table = pd.concat([null_val, percent], axis=1)\n",
    "    table_r = table.rename(\n",
    "        columns = {\n",
    "            0: '欠損数',\n",
    "            1: '%'\n",
    "        }\n",
    "    )\n",
    "    return table_r\n",
    "\n",
    "isNullCheck(train)"
   ]
  },
  {
   "cell_type": "code",
   "execution_count": null,
   "metadata": {
    "_cell_guid": "83396a1a-79b6-4bc6-8744-8ec0c0397cda",
    "_uuid": "ff74dcf2-573e-42f0-a55e-dc15042ec03c"
   },
   "outputs": [],
   "source": [
    "isNullCheck(test)"
   ]
  },
  {
   "cell_type": "code",
   "execution_count": null,
   "metadata": {
    "_cell_guid": "8520769d-590a-4a94-8ba7-a0b89be4aa3c",
    "_uuid": "c70db6e6-3b0a-4171-bab8-ca3b3f2d9125"
   },
   "outputs": [],
   "source": [
    "train.head()"
   ]
  },
  {
   "cell_type": "markdown",
   "metadata": {
    "_cell_guid": "23fa8458-42a3-4f48-9881-20949311248a",
    "_uuid": "63f2187c-d08b-49c7-b4d0-2fea8f887478"
   },
   "source": [
    "以降、データ分析準備。"
   ]
  },
  {
   "cell_type": "code",
   "execution_count": null,
   "metadata": {
    "_cell_guid": "fc2591f6-51d8-4b70-a90a-d2d9ecf3ae4b",
    "_uuid": "584070f7-173e-439f-a7ab-b3e1a00ac7a0"
   },
   "outputs": [],
   "source": [
    "train['Sex'][train['Sex'] == 'male'] = 0\n",
    "train['Sex'][train['Sex'] == 'female'] = 1\n",
    "\n",
    "train['Embarked'][train['Embarked'] == 'S'] =0\n",
    "train['Embarked'][train['Embarked'] == 'C'] =1\n",
    "train['Embarked'][train['Embarked'] == 'Q'] =2\n",
    "\n",
    "train.head()"
   ]
  },
  {
   "cell_type": "code",
   "execution_count": null,
   "metadata": {
    "_cell_guid": "87e3dcaf-7ce1-4d55-a6d3-c88d60d56ce0",
    "_uuid": "f9248d60-e18b-45ba-ab4b-3e4a0f4dd6bd"
   },
   "outputs": [],
   "source": [
    "train['Age'] = train['Age'].fillna(train['Age'].median())\n",
    "train['Embarked'] = train['Embarked'].fillna(train['Embarked'].median())\n",
    "# train['Embarked'] = train['Embarked'].fillna('S')\n",
    "\n",
    "isNullCheck(train)"
   ]
  },
  {
   "cell_type": "code",
   "execution_count": null,
   "metadata": {
    "_cell_guid": "3f59e295-b4ff-42c0-9db6-3eed961e956a",
    "_uuid": "66cdc278-7f37-4edc-9f3a-35859474f8c4"
   },
   "outputs": [],
   "source": [
    "test['Sex'][test['Sex'] == 'male'] = 0\n",
    "test['Sex'][test['Sex'] == 'female'] = 1\n",
    "\n",
    "test['Embarked'][test['Embarked'] == 'S'] =0\n",
    "test['Embarked'][test['Embarked'] == 'C'] =1\n",
    "test['Embarked'][test['Embarked'] == 'Q'] =2\n",
    "\n",
    "test['Age'] = test['Age'].fillna(test['Age'].median())\n",
    "test['Embarked'] = test['Embarked'].fillna(test['Embarked'].median())\n",
    "test['Fare'] = test['Fare'].fillna(test['Fare'].median())\n",
    "\n",
    "isNullCheck(test)"
   ]
  },
  {
   "cell_type": "code",
   "execution_count": null,
   "metadata": {},
   "outputs": [],
   "source": [
    "train['Cabin'].fillna('0', inplace=True)\n",
    "train.loc[train['Cabin'].str.startswith('A'), 'new-Cabin'] = 1\n",
    "train.loc[train['Cabin'].str.startswith('B'), 'new-Cabin'] = 2\n",
    "train.loc[train['Cabin'].str.startswith('C'), 'new-Cabin'] = 3\n",
    "train.loc[train['Cabin'].str.startswith('D'), 'new-Cabin'] = 4\n",
    "train.loc[train['Cabin'].str.startswith('E'), 'new-Cabin'] = 5\n",
    "train.loc[train['Cabin'].str.startswith('F'), 'new-Cabin'] = 6\n",
    "train.loc[train['Cabin'].str.startswith('G'), 'new-Cabin'] = 7\n",
    "train.loc[train['Cabin'].str.startswith('T'), 'new-Cabin'] = 8\n",
    "train.loc[train['Cabin']==('0'), 'new-Cabin'] = train['new-Cabin'].mode()[0]\n",
    "train.describe()"
   ]
  },
  {
   "cell_type": "code",
   "execution_count": null,
   "metadata": {},
   "outputs": [],
   "source": [
    "test['Cabin'].fillna(0, inplace=True)\n",
    "test.loc[train['Cabin'].str.startswith('A'), 'new-Cabin'] = 1\n",
    "test.loc[train['Cabin'].str.startswith('B'), 'new-Cabin'] = 2\n",
    "test.loc[train['Cabin'].str.startswith('C'), 'new-Cabin'] = 3\n",
    "test.loc[train['Cabin'].str.startswith('D'), 'new-Cabin'] = 4\n",
    "test.loc[train['Cabin'].str.startswith('E'), 'new-Cabin'] = 5\n",
    "test.loc[train['Cabin'].str.startswith('F'), 'new-Cabin'] = 6\n",
    "test.loc[train['Cabin'].str.startswith('G'), 'new-Cabin'] = 7\n",
    "test.loc[train['Cabin'].str.startswith('T'), 'new-Cabin'] = 8\n",
    "test.loc[train['Cabin']==('0'), 'new-Cabin'] = test['new-Cabin'].mode()[0]\n",
    "train.describe()"
   ]
  },
  {
   "cell_type": "code",
   "execution_count": null,
   "metadata": {},
   "outputs": [],
   "source": [
    "isNullCheck(train)"
   ]
  },
  {
   "cell_type": "code",
   "execution_count": null,
   "metadata": {},
   "outputs": [],
   "source": [
    "isNullCheck(test)"
   ]
  },
  {
   "cell_type": "markdown",
   "metadata": {
    "_cell_guid": "f6462afb-c3eb-4e66-b707-95d87efb2a1d",
    "_uuid": "c911e1f2-cb6a-4b40-b40b-7927c7c27c91"
   },
   "source": [
    "以降、予測モデル作成"
   ]
  },
  {
   "cell_type": "code",
   "execution_count": null,
   "metadata": {
    "_cell_guid": "1220d5a8-7232-4050-bd2b-3c51a02088c6",
    "_uuid": "faea4493-4556-4b48-9cbb-91c1993215b2"
   },
   "outputs": [],
   "source": [
    "from sklearn import tree\n",
    "\n",
    "target = train['Survived'].values\n",
    "features_one = train[['Pclass', 'Sex', 'Age', 'Fare', 'Embarked', 'new-Cabin']].values\n",
    "\n",
    "\n",
    "tree_one = tree.DecisionTreeClassifier()\n",
    "tree_one = tree_one.fit(features_one, target)\n",
    "\n",
    "test_features = test[['Pclass', 'Sex', 'Age', 'Fare', 'Embarked', 'new-Cabin']].values\n",
    "\n",
    "my_prediction = tree_one.predict(test_features)"
   ]
  },
  {
   "cell_type": "code",
   "execution_count": null,
   "metadata": {
    "_cell_guid": "727e93d6-7ecc-490b-b071-50c7562db897",
    "_uuid": "6c32c024-7ef4-4cb5-8503-97bc1b59dd92"
   },
   "outputs": [],
   "source": [
    "print(my_prediction)"
   ]
  },
  {
   "cell_type": "code",
   "execution_count": null,
   "metadata": {
    "_cell_guid": "f6fa1893-4ab5-4442-b5be-9bb869e41d1b",
    "_uuid": "d0ce2fb5-1e77-4308-a3dc-535738b5265a"
   },
   "outputs": [],
   "source": [
    "PassengerId = np.array(test['PassengerId']).astype(int)\n",
    "\n",
    "my_solution = pd.DataFrame(my_prediction, PassengerId, columns = [\"Survived\"])\n",
    "\n",
    "my_solution.to_csv('/kaggle/working/gender_submission.csv', index_label = [\"PassengerId\"])"
   ]
  },
  {
   "cell_type": "code",
   "execution_count": null,
   "metadata": {
    "_cell_guid": "ff309931-a2aa-4ab4-ab8e-559bfe9baa7d",
    "_uuid": "4fab08f4-c9ad-4238-9569-9340a95fc115"
   },
   "outputs": [],
   "source": [
    "my_solution"
   ]
  },
  {
   "cell_type": "code",
   "execution_count": null,
   "metadata": {},
   "outputs": [],
   "source": []
  }
 ],
 "metadata": {
  "kernelspec": {
   "display_name": "Python 3",
   "language": "python",
   "name": "python3"
  },
  "language_info": {
   "codemirror_mode": {
    "name": "ipython",
    "version": 3
   },
   "file_extension": ".py",
   "mimetype": "text/x-python",
   "name": "python",
   "nbconvert_exporter": "python",
   "pygments_lexer": "ipython3",
   "version": "3.6.6"
  }
 },
 "nbformat": 4,
 "nbformat_minor": 1
}
