{
 "cells": [
  {
   "cell_type": "markdown",
   "metadata": {},
   "source": [
    "importは1つ目のセルに入れる。\n",
    "依存ライブラリを明白にするため。"
   ]
  },
  {
   "cell_type": "code",
   "execution_count": null,
   "metadata": {},
   "outputs": [],
   "source": [
    "import os\n",
    "\n",
    "import numpy as np\n",
    "import pandas as pd\n",
    "\n",
    "import seaborn as sns\n",
    "import matplotlib.pyplot as plt\n",
    "\n",
    "% matplotlib inline\n",
    "\n",
    "from sklearn import tree"
   ]
  },
  {
   "cell_type": "markdown",
   "metadata": {},
   "source": [
    "# データimport"
   ]
  },
  {
   "cell_type": "code",
   "execution_count": null,
   "metadata": {},
   "outputs": [],
   "source": [
    "for dirname, _, filenames in os.walk('input'):\n",
    "    for filename in filenames:\n",
    "        print(os.path.join(dirname, filename))"
   ]
  },
  {
   "cell_type": "code",
   "execution_count": null,
   "metadata": {},
   "outputs": [],
   "source": [
    "df_train = pd.read_csv('input/train.csv')\n",
    "df_train.head()"
   ]
  },
  {
   "cell_type": "code",
   "execution_count": null,
   "metadata": {},
   "outputs": [],
   "source": [
    "df_test = pd.read_csv('input/test.csv')\n",
    "df_test.head()"
   ]
  },
  {
   "cell_type": "code",
   "execution_count": null,
   "metadata": {},
   "outputs": [],
   "source": [
    "print(df_train.shape)"
   ]
  },
  {
   "cell_type": "code",
   "execution_count": null,
   "metadata": {},
   "outputs": [],
   "source": [
    "df_train.describe()"
   ]
  },
  {
   "cell_type": "code",
   "execution_count": null,
   "metadata": {},
   "outputs": [],
   "source": [
    "df_train.isnull().sum()"
   ]
  },
  {
   "cell_type": "markdown",
   "metadata": {},
   "source": [
    "# データ整形"
   ]
  },
  {
   "cell_type": "markdown",
   "metadata": {},
   "source": [
    "欠損データを保管する。\n",
    "\n",
    "```\n",
    "df['列'].fillna(保管データ)\n",
    "```\n",
    "\n",
    "を用いる。"
   ]
  },
  {
   "cell_type": "code",
   "execution_count": null,
   "metadata": {},
   "outputs": [],
   "source": [
    "def store_null_to_median(df):\n",
    "    df['Age'].fillna(df['Age'].median(), inplace=True)\n",
    "    df['Cabin'].fillna('0', inplace=True)\n",
    "    df['Embarked'].fillna('0', inplace=True)\n",
    "    df['Fare'].fillna(df['Fare'].median(), inplace=True)\n",
    "    return df\n",
    "\n",
    "df_train['Embarked'].dropna()\n",
    "\n",
    "df_train = store_null_to_median(df_train)\n",
    "df_train.head()"
   ]
  },
  {
   "cell_type": "code",
   "execution_count": null,
   "metadata": {},
   "outputs": [],
   "source": [
    "null_val=df_train.isnull().sum()\n",
    "null_val"
   ]
  },
  {
   "cell_type": "markdown",
   "metadata": {},
   "source": [
    "文字列データを数値に変換する。\n",
    "\n",
    "```\n",
    "df.loc[条件, 列] = 列への代入値\n",
    "```\n",
    "を用いる。"
   ]
  },
  {
   "cell_type": "code",
   "execution_count": null,
   "metadata": {},
   "outputs": [],
   "source": [
    "def convert_string_to_number(df):\n",
    "    df.loc[df['Sex'] == 'male', 'n_Sex'] = 0\n",
    "    df.loc[df['Sex'] == 'female', 'n_Sex'] = 1\n",
    "    df.loc[df['Embarked'] == 'S', 'n_Embarked'] = 0\n",
    "    df.loc[df['Embarked'] == 'C', 'n_Embarked'] = 1\n",
    "    df.loc[df['Embarked'] == 'Q', 'n_Embarked'] = 2\n",
    "    df['n_Embarked'] = df['n_Embarked'].fillna(df['n_Embarked'].median())\n",
    "    df.loc[df['Cabin'].str.startswith('A'), 'n_Cabin'] = 1\n",
    "    df.loc[df['Cabin'].str.startswith('B'), 'n_Cabin'] = 2\n",
    "    df.loc[df['Cabin'].str.startswith('C'), 'n_Cabin'] = 3\n",
    "    df.loc[df['Cabin'].str.startswith('D'), 'n_Cabin'] = 4\n",
    "    df.loc[df['Cabin'].str.startswith('E'), 'n_Cabin'] = 5\n",
    "    df.loc[df['Cabin'].str.startswith('F'), 'n_Cabin'] = 6\n",
    "    df.loc[df['Cabin'].str.startswith('G'), 'n_Cabin'] = 7\n",
    "    df.loc[df['Cabin'].str.startswith('T'), 'n_Cabin'] = 8\n",
    "    df.loc[df['Cabin']==('0'), 'n_Cabin'] = df['n_Cabin'].median()\n",
    "    return df\n",
    "\n",
    "df_train = convert_string_to_number(df_train)\n",
    "df_train.head()"
   ]
  },
  {
   "cell_type": "markdown",
   "metadata": {},
   "source": [
    "# データ可視化\n",
    "\n",
    "参考： [【Kaggle】Titanicを可視化してみる【Seaborn】 | 趣味で始める機械学習](https://ct-innovation01.xyz/DL-Freetime/kaggle-003/)"
   ]
  },
  {
   "cell_type": "code",
   "execution_count": null,
   "metadata": {},
   "outputs": [],
   "source": [
    "sns.pairplot(df_train[['Survived', 'Pclass', 'SibSp', 'Parch', 'Age', 'Fare', 'n_Sex', 'n_Embarked', 'n_Cabin']], hue='Survived')\n",
    "plt.show()"
   ]
  },
  {
   "cell_type": "code",
   "execution_count": null,
   "metadata": {},
   "outputs": [],
   "source": [
    "sns.factorplot(\n",
    "    x = 'Sex',\n",
    "    y = 'Survived',\n",
    "    data = df_train,\n",
    "    kind='bar'\n",
    ")\n",
    "\n",
    "plt.show()"
   ]
  },
  {
   "cell_type": "code",
   "execution_count": null,
   "metadata": {},
   "outputs": [],
   "source": [
    "sns.countplot(\n",
    "    x = 'Sex',\n",
    "    hue = 'Survived',\n",
    "    data = df_train\n",
    ")\n",
    "\n",
    "plt.show()"
   ]
  },
  {
   "cell_type": "code",
   "execution_count": null,
   "metadata": {},
   "outputs": [],
   "source": [
    "sns.factorplot(\n",
    "    x='Pclass',\n",
    "    y='Survived',\n",
    "    hue='Sex',\n",
    "    data=df_train,\n",
    "    kind='bar'\n",
    ")\n",
    "\n",
    "plt.show()"
   ]
  },
  {
   "cell_type": "markdown",
   "metadata": {},
   "source": [
    "# 予測モデル作成"
   ]
  },
  {
   "cell_type": "code",
   "execution_count": null,
   "metadata": {},
   "outputs": [],
   "source": [
    "target = df_train['Survived'].values\n",
    "\n",
    "def setData(df):\n",
    "    return df[[\n",
    "        'Pclass',\n",
    "        'n_Sex',\n",
    "        'Age',\n",
    "        'Fare',\n",
    "        'n_Embarked',\n",
    "        'n_Cabin'\n",
    "    ]].values\n",
    "\n",
    "features = setData(df_train)\n",
    "\n",
    "titanic_tree = tree.DecisionTreeClassifier()\n",
    "titanic_tree = titanic_tree.fit(features, target)"
   ]
  },
  {
   "cell_type": "markdown",
   "metadata": {},
   "source": [
    "# 対象データ整形"
   ]
  },
  {
   "cell_type": "code",
   "execution_count": null,
   "metadata": {},
   "outputs": [],
   "source": [
    "df_test = store_null_to_median(df_test)\n",
    "df_test = convert_string_to_number(df_test)\n",
    "df_test.isnull().sum()"
   ]
  },
  {
   "cell_type": "markdown",
   "metadata": {},
   "source": [
    "# データ推測"
   ]
  },
  {
   "cell_type": "code",
   "execution_count": null,
   "metadata": {},
   "outputs": [],
   "source": [
    "test_features = setData(df_test)\n",
    "\n",
    "my_prediction = titanic_tree.predict(test_features)"
   ]
  },
  {
   "cell_type": "code",
   "execution_count": null,
   "metadata": {},
   "outputs": [],
   "source": [
    "PassengerId = np.array(df_test['PassengerId']).astype(int)\n",
    "\n",
    "my_solution = pd.DataFrame(my_prediction, PassengerId, columns = [\"Survived\"])\n",
    "\n",
    "my_solution.to_csv('gender_submission.csv', index_label = [\"PassengerId\"])"
   ]
  }
 ],
 "metadata": {
  "kernelspec": {
   "display_name": "Python 3",
   "language": "python",
   "name": "python3"
  },
  "language_info": {
   "codemirror_mode": {
    "name": "ipython",
    "version": 3
   },
   "file_extension": ".py",
   "mimetype": "text/x-python",
   "name": "python",
   "nbconvert_exporter": "python",
   "pygments_lexer": "ipython3",
   "version": "3.6.6"
  }
 },
 "nbformat": 4,
 "nbformat_minor": 2
}
